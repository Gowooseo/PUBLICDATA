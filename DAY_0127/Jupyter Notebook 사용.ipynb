{
 "cells": [
  {
   "cell_type": "code",
   "execution_count": 1,
   "id": "f5ea1697",
   "metadata": {},
   "outputs": [
    {
     "name": "stdout",
     "output_type": "stream",
     "text": [
      " C 드라이브의 볼륨에는 이름이 없습니다.\n",
      " 볼륨 일련 번호: CE5B-1C1C\n",
      "\n",
      " C:\\Users\\kdp\\PycharmProjects\\BIGDATA\\DAY_0127 디렉터리\n",
      "\n",
      "2024-01-29  오전 11:12    <DIR>          .\n",
      "2024-01-29  오전 09:09    <DIR>          ..\n",
      "2024-01-29  오전 11:12    <DIR>          .ipynb_checkpoints\n",
      "2024-01-29  오전 11:11            40,905 ex_publica medic_01.ipynb\n",
      "2024-01-29  오전 11:12                72 Jupyter Notebook 사용.ipynb\n",
      "2024-01-29  오전 09:12            56,910 공공보건의료기관현황.csv\n",
      "2024-01-29  오전 09:12            17,225 행정구역시군구별성별인구수.xlsx\n",
      "               4개 파일             115,112 바이트\n",
      "               3개 디렉터리  159,085,158,400 바이트 남음\n"
     ]
    }
   ],
   "source": [
    "%ls"
   ]
  },
  {
   "cell_type": "code",
   "execution_count": 2,
   "id": "7a136fe6",
   "metadata": {},
   "outputs": [
    {
     "data": {
      "text/plain": [
       "'C:\\\\Users\\\\kdp\\\\PycharmProjects\\\\BIGDATA\\\\DAY_0127'"
      ]
     },
     "execution_count": 2,
     "metadata": {},
     "output_type": "execute_result"
    }
   ],
   "source": [
    "%pwd"
   ]
  },
  {
   "cell_type": "code",
   "execution_count": null,
   "id": "861f1797",
   "metadata": {},
   "outputs": [],
   "source": []
  }
 ],
 "metadata": {
  "kernelspec": {
   "display_name": "Python 3 (ipykernel)",
   "language": "python",
   "name": "python3"
  },
  "language_info": {
   "codemirror_mode": {
    "name": "ipython",
    "version": 3
   },
   "file_extension": ".py",
   "mimetype": "text/x-python",
   "name": "python",
   "nbconvert_exporter": "python",
   "pygments_lexer": "ipython3",
   "version": "3.11.5"
  }
 },
 "nbformat": 4,
 "nbformat_minor": 5
}
