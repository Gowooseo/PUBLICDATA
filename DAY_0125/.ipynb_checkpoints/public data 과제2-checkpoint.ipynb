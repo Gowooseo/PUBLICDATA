{
 "cells": [
  {
   "cell_type": "code",
   "execution_count": 1,
   "id": "4d65bc92-4784-4e85-a912-bc2505339c79",
   "metadata": {},
   "outputs": [],
   "source": [
    "#1"
   ]
  },
  {
   "cell_type": "code",
   "execution_count": 2,
   "id": "d6bd644d-1fbf-431f-abe3-0f1a85973e08",
   "metadata": {},
   "outputs": [],
   "source": [
    "import csv\n",
    "import pandas as pd\n",
    "import matplotlib.pyplot as plt\n",
    "import platform\n",
    "import koreanize_matplotlib\n",
    "\n",
    "\n",
    "        "
   ]
  },
  {
   "cell_type": "code",
   "execution_count": 3,
   "id": "a0450808-6e6a-4859-ac92-ae99fed087cf",
   "metadata": {},
   "outputs": [],
   "source": [
    "file='../DAY_0125/subwaytime.csv'\n",
    "data=pd.read_csv(file,header=[0,1])\n",
    "\n",
    "subwaydf=data.iloc[:, [1, 3, 11, 13]]\n",
    "\n",
    "subwaydf.columns=['호선명','지하철역','7시 하차','8시 하차']\n",
    "    \n",
    "        \n",
    "         \n",
    "        \n",
    "           \n",
    "    "
   ]
  },
  {
   "cell_type": "code",
   "execution_count": 4,
   "id": "36f7a55d-47ca-497f-98a2-7eeb32018aef",
   "metadata": {},
   "outputs": [
    {
     "name": "stderr",
     "output_type": "stream",
     "text": [
      "C:\\Users\\kdp\\AppData\\Local\\Temp\\ipykernel_13404\\2910994828.py:1: SettingWithCopyWarning: \n",
      "A value is trying to be set on a copy of a slice from a DataFrame.\n",
      "Try using .loc[row_indexer,col_indexer] = value instead\n",
      "\n",
      "See the caveats in the documentation: https://pandas.pydata.org/pandas-docs/stable/user_guide/indexing.html#returning-a-view-versus-a-copy\n",
      "  subwaydf['총 하차'] = subwaydf['7시 하차']+subwaydf['8시 하차']\n"
     ]
    }
   ],
   "source": [
    "subwaydf['총 하차'] = subwaydf['7시 하차']+subwaydf['8시 하차']"
   ]
  },
  {
   "cell_type": "code",
   "execution_count": 5,
   "id": "5dcf8986",
   "metadata": {},
   "outputs": [
    {
     "data": {
      "text/html": [
       "<div>\n",
       "<style scoped>\n",
       "    .dataframe tbody tr th:only-of-type {\n",
       "        vertical-align: middle;\n",
       "    }\n",
       "\n",
       "    .dataframe tbody tr th {\n",
       "        vertical-align: top;\n",
       "    }\n",
       "\n",
       "    .dataframe thead th {\n",
       "        text-align: right;\n",
       "    }\n",
       "</style>\n",
       "<table border=\"1\" class=\"dataframe\">\n",
       "  <thead>\n",
       "    <tr style=\"text-align: right;\">\n",
       "      <th></th>\n",
       "      <th>호선명</th>\n",
       "      <th>지하철역</th>\n",
       "      <th>7시 하차</th>\n",
       "      <th>8시 하차</th>\n",
       "      <th>총 하차</th>\n",
       "    </tr>\n",
       "  </thead>\n",
       "  <tbody>\n",
       "    <tr>\n",
       "      <th>0</th>\n",
       "      <td>1호선</td>\n",
       "      <td>서울역</td>\n",
       "      <td>105313</td>\n",
       "      <td>218007</td>\n",
       "      <td>323320</td>\n",
       "    </tr>\n",
       "    <tr>\n",
       "      <th>1</th>\n",
       "      <td>1호선</td>\n",
       "      <td>시청</td>\n",
       "      <td>63969</td>\n",
       "      <td>182565</td>\n",
       "      <td>246534</td>\n",
       "    </tr>\n",
       "    <tr>\n",
       "      <th>2</th>\n",
       "      <td>1호선</td>\n",
       "      <td>종각</td>\n",
       "      <td>98556</td>\n",
       "      <td>244858</td>\n",
       "      <td>343414</td>\n",
       "    </tr>\n",
       "    <tr>\n",
       "      <th>3</th>\n",
       "      <td>1호선</td>\n",
       "      <td>종로3가</td>\n",
       "      <td>23309</td>\n",
       "      <td>61562</td>\n",
       "      <td>84871</td>\n",
       "    </tr>\n",
       "    <tr>\n",
       "      <th>4</th>\n",
       "      <td>1호선</td>\n",
       "      <td>종로5가</td>\n",
       "      <td>38726</td>\n",
       "      <td>90539</td>\n",
       "      <td>129265</td>\n",
       "    </tr>\n",
       "    <tr>\n",
       "      <th>...</th>\n",
       "      <td>...</td>\n",
       "      <td>...</td>\n",
       "      <td>...</td>\n",
       "      <td>...</td>\n",
       "      <td>...</td>\n",
       "    </tr>\n",
       "    <tr>\n",
       "      <th>616</th>\n",
       "      <td>신림선</td>\n",
       "      <td>당곡</td>\n",
       "      <td>3345</td>\n",
       "      <td>8281</td>\n",
       "      <td>11626</td>\n",
       "    </tr>\n",
       "    <tr>\n",
       "      <th>617</th>\n",
       "      <td>신림선</td>\n",
       "      <td>신림</td>\n",
       "      <td>1313</td>\n",
       "      <td>2640</td>\n",
       "      <td>3953</td>\n",
       "    </tr>\n",
       "    <tr>\n",
       "      <th>618</th>\n",
       "      <td>신림선</td>\n",
       "      <td>서원</td>\n",
       "      <td>1166</td>\n",
       "      <td>2085</td>\n",
       "      <td>3251</td>\n",
       "    </tr>\n",
       "    <tr>\n",
       "      <th>619</th>\n",
       "      <td>신림선</td>\n",
       "      <td>서울대벤처타운</td>\n",
       "      <td>5236</td>\n",
       "      <td>8763</td>\n",
       "      <td>13999</td>\n",
       "    </tr>\n",
       "    <tr>\n",
       "      <th>620</th>\n",
       "      <td>신림선</td>\n",
       "      <td>관악산(서울대)</td>\n",
       "      <td>3502</td>\n",
       "      <td>9833</td>\n",
       "      <td>13335</td>\n",
       "    </tr>\n",
       "  </tbody>\n",
       "</table>\n",
       "<p>621 rows × 5 columns</p>\n",
       "</div>"
      ],
      "text/plain": [
       "     호선명      지하철역   7시 하차   8시 하차    총 하차\n",
       "0    1호선       서울역  105313  218007  323320\n",
       "1    1호선        시청   63969  182565  246534\n",
       "2    1호선        종각   98556  244858  343414\n",
       "3    1호선      종로3가   23309   61562   84871\n",
       "4    1호선      종로5가   38726   90539  129265\n",
       "..   ...       ...     ...     ...     ...\n",
       "616  신림선        당곡    3345    8281   11626\n",
       "617  신림선        신림    1313    2640    3953\n",
       "618  신림선        서원    1166    2085    3251\n",
       "619  신림선   서울대벤처타운    5236    8763   13999\n",
       "620  신림선  관악산(서울대)    3502    9833   13335\n",
       "\n",
       "[621 rows x 5 columns]"
      ]
     },
     "execution_count": 5,
     "metadata": {},
     "output_type": "execute_result"
    }
   ],
   "source": [
    "subwaydf"
   ]
  },
  {
   "cell_type": "code",
   "execution_count": 6,
   "id": "4af4dee2",
   "metadata": {},
   "outputs": [],
   "source": [
    "sub_max=[]\n",
    "station_max=[]\n",
    "for i in range(1, 8):\n",
    "    a=subwaydf[subwaydf['호선명'] == f'{i}호선' ]['총 하차'].max()\n",
    "    sub_max.append(a)\n",
    "    b = subwaydf[subwaydf['총 하차'] == a]['지하철역'].iloc[0]\n",
    "    station_max.append(b)\n",
    "    \n",
    "    \n",
    "    "
   ]
  },
  {
   "cell_type": "code",
   "execution_count": 7,
   "id": "751b4a84",
   "metadata": {},
   "outputs": [
    {
     "data": {
      "text/plain": [
       "[343414, 448033, 308476, 221021, 334282, 129775, 481268]"
      ]
     },
     "execution_count": 7,
     "metadata": {},
     "output_type": "execute_result"
    }
   ],
   "source": [
    "sub_max"
   ]
  },
  {
   "cell_type": "code",
   "execution_count": 8,
   "id": "4cb3164e",
   "metadata": {},
   "outputs": [
    {
     "data": {
      "text/plain": [
       "['종각', '역삼', '양재(서초구청)', '충무로', '여의도', '공덕', '가산디지털단지']"
      ]
     },
     "execution_count": 8,
     "metadata": {},
     "output_type": "execute_result"
    }
   ],
   "source": [
    "station_max"
   ]
  },
  {
   "cell_type": "code",
   "execution_count": 9,
   "id": "a5a2e7b9",
   "metadata": {},
   "outputs": [
    {
     "data": {
      "text/plain": [
       "'가산디지털단지'"
      ]
     },
     "execution_count": 9,
     "metadata": {},
     "output_type": "execute_result"
    }
   ],
   "source": [
    "b"
   ]
  },
  {
   "cell_type": "code",
   "execution_count": 26,
   "id": "a0feabad",
   "metadata": {},
   "outputs": [
    {
     "name": "stdout",
     "output_type": "stream",
     "text": [
      "출근 시간대 1호선  최대 하차역:종각 하차인원:343414명\n",
      "출근 시간대 2호선  최대 하차역:역삼 하차인원:448033명\n",
      "출근 시간대 3호선  최대 하차역:양재(서초구청) 하차인원:308476명\n",
      "출근 시간대 4호선  최대 하차역:충무로 하차인원:221021명\n",
      "출근 시간대 5호선  최대 하차역:여의도 하차인원:334282명\n",
      "출근 시간대 6호선  최대 하차역:공덕 하차인원:129775명\n",
      "출근 시간대 7호선  최대 하차역:가산디지털단지 하차인원:481268명\n"
     ]
    },
    {
     "data": {
      "image/png": "[encoded data removed]",
      "text/plain": [
       "<Figure size 500x500 with 1 Axes>"
      ]
     },
     "metadata": {},
     "output_type": "display_data"
    }
   ],
   "source": [
    "\n",
    "for m in range(7):\n",
    "    print(f'출근 시간대 {m+1}호선  최대 하차역:{station_max[m]} 하차인원:{sub_max[m]}명')\n",
    "\n",
    "xticks_label = [f'{m+1}호선 {station_max[m]}역' for m in range(7)]\n",
    "\n",
    "if (platform.system()=='Windows'):\n",
    "    plt.rc('font',family='Malgun Gothic')\n",
    "else:\n",
    "    plt.rc('font',family='AppleGothic')\n",
    "\n",
    "plt.figure(figsize=(5,5))\n",
    "plt.title('출근 시간대 지하철 노선별 최대 하차 인원 및 하차역')\n",
    "plt.bar(station_max,sub_max)\n",
    "plt.xticks(station_max, xticks_label,rotation=80)\n",
    "plt.tight_layout()\n",
    "plt.show()"
   ]
  },
  {
   "cell_type": "code",
   "execution_count": 11,
   "id": "63596631",
   "metadata": {},
   "outputs": [
    {
     "data": {
      "text/plain": [
       "'2. 지하철 각 노선별 퇴근 시간대 최대 하차 인원을 막대그래프로 표시하고, 하차인원 출력\\nn 퇴근 시간대: 19:00~20:59\\nn 사용 파일: subwaytime.csv 또는 subway.xls\\n- 19:00~19:59 하차: index[35], 20:00~20:59 하차: index [37]\\nn 가장 많이 내리는 지하철역 순서로 정렬 후 개의 지하철역 및 하차 인원 수를\\n화면에 출력. 지하철 호선은 다르지만, 동일한 이름의 역은 모두 합해서 계산함 하차\\n인원은 1,000 단위로 콤마를 찍어서 구분할 것\\nn Bar chart 의 x 축은 지하철 역 이름을 표시하고, y 축은 인원수를 표시'"
      ]
     },
     "execution_count": 11,
     "metadata": {},
     "output_type": "execute_result"
    }
   ],
   "source": [
    "#2\n",
    "'''2. 지하철 각 노선별 퇴근 시간대 최대 하차 인원을 막대그래프로 표시하고, 하차인원 출력\n",
    "n 퇴근 시간대: 19:00~20:59\n",
    "n 사용 파일: subwaytime.csv 또는 subway.xls\n",
    "- 19:00~19:59 하차: index[35], 20:00~20:59 하차: index [37]\n",
    "n 가장 많이 내리는 지하철역 순서로 정렬 후 개의 지하철역 및 하차 인원 수를\n",
    "화면에 출력. 지하철 호선은 다르지만, 동일한 이름의 역은 모두 합해서 계산함 하차\n",
    "인원은 1,000 단위로 콤마를 찍어서 구분할 것\n",
    "n Bar chart 의 x 축은 지하철 역 이름을 표시하고, y 축은 인원수를 표시'''"
   ]
  },
  {
   "cell_type": "code",
   "execution_count": 12,
   "id": "fbea729d",
   "metadata": {},
   "outputs": [],
   "source": [
    "subwaydf2=data.iloc[:, [ 3, 35, 37]]"
   ]
  },
  {
   "cell_type": "code",
   "execution_count": 13,
   "id": "dd1fe130",
   "metadata": {},
   "outputs": [
    {
     "data": {
      "text/html": [
       "<div>\n",
       "<style scoped>\n",
       "    .dataframe tbody tr th:only-of-type {\n",
       "        vertical-align: middle;\n",
       "    }\n",
       "\n",
       "    .dataframe tbody tr th {\n",
       "        vertical-align: top;\n",
       "    }\n",
       "\n",
       "    .dataframe thead tr th {\n",
       "        text-align: left;\n",
       "    }\n",
       "</style>\n",
       "<table border=\"1\" class=\"dataframe\">\n",
       "  <thead>\n",
       "    <tr>\n",
       "      <th></th>\n",
       "      <th>지하철역</th>\n",
       "      <th>Unnamed: 35_level_0</th>\n",
       "      <th>Unnamed: 37_level_0</th>\n",
       "    </tr>\n",
       "    <tr>\n",
       "      <th></th>\n",
       "      <th>Unnamed: 3_level_1</th>\n",
       "      <th>하차</th>\n",
       "      <th>하차</th>\n",
       "    </tr>\n",
       "  </thead>\n",
       "  <tbody>\n",
       "    <tr>\n",
       "      <th>0</th>\n",
       "      <td>서울역</td>\n",
       "      <td>74342</td>\n",
       "      <td>54361</td>\n",
       "    </tr>\n",
       "    <tr>\n",
       "      <th>1</th>\n",
       "      <td>시청</td>\n",
       "      <td>18213</td>\n",
       "      <td>11988</td>\n",
       "    </tr>\n",
       "    <tr>\n",
       "      <th>2</th>\n",
       "      <td>종각</td>\n",
       "      <td>32480</td>\n",
       "      <td>16718</td>\n",
       "    </tr>\n",
       "    <tr>\n",
       "      <th>3</th>\n",
       "      <td>종로3가</td>\n",
       "      <td>22308</td>\n",
       "      <td>12584</td>\n",
       "    </tr>\n",
       "    <tr>\n",
       "      <th>4</th>\n",
       "      <td>종로5가</td>\n",
       "      <td>18273</td>\n",
       "      <td>10528</td>\n",
       "    </tr>\n",
       "    <tr>\n",
       "      <th>...</th>\n",
       "      <td>...</td>\n",
       "      <td>...</td>\n",
       "      <td>...</td>\n",
       "    </tr>\n",
       "    <tr>\n",
       "      <th>616</th>\n",
       "      <td>당곡</td>\n",
       "      <td>12365</td>\n",
       "      <td>7842</td>\n",
       "    </tr>\n",
       "    <tr>\n",
       "      <th>617</th>\n",
       "      <td>신림</td>\n",
       "      <td>6274</td>\n",
       "      <td>3812</td>\n",
       "    </tr>\n",
       "    <tr>\n",
       "      <th>618</th>\n",
       "      <td>서원</td>\n",
       "      <td>10227</td>\n",
       "      <td>7068</td>\n",
       "    </tr>\n",
       "    <tr>\n",
       "      <th>619</th>\n",
       "      <td>서울대벤처타운</td>\n",
       "      <td>26890</td>\n",
       "      <td>17184</td>\n",
       "    </tr>\n",
       "    <tr>\n",
       "      <th>620</th>\n",
       "      <td>관악산(서울대)</td>\n",
       "      <td>3397</td>\n",
       "      <td>2402</td>\n",
       "    </tr>\n",
       "  </tbody>\n",
       "</table>\n",
       "<p>621 rows × 3 columns</p>\n",
       "</div>"
      ],
      "text/plain": [
       "                  지하철역 Unnamed: 35_level_0 Unnamed: 37_level_0\n",
       "    Unnamed: 3_level_1                  하차                  하차\n",
       "0                  서울역               74342               54361\n",
       "1                   시청               18213               11988\n",
       "2                   종각               32480               16718\n",
       "3                 종로3가               22308               12584\n",
       "4                 종로5가               18273               10528\n",
       "..                 ...                 ...                 ...\n",
       "616                 당곡               12365                7842\n",
       "617                 신림                6274                3812\n",
       "618                 서원               10227                7068\n",
       "619            서울대벤처타운               26890               17184\n",
       "620           관악산(서울대)                3397                2402\n",
       "\n",
       "[621 rows x 3 columns]"
      ]
     },
     "execution_count": 13,
     "metadata": {},
     "output_type": "execute_result"
    }
   ],
   "source": [
    "subwaydf2\n"
   ]
  },
  {
   "cell_type": "code",
   "execution_count": 14,
   "id": "f28e1ce9",
   "metadata": {},
   "outputs": [],
   "source": [
    "subwaydf2.columns=['지하철역','19시하차','20시하차']"
   ]
  },
  {
   "cell_type": "code",
   "execution_count": 15,
   "id": "e735d116",
   "metadata": {},
   "outputs": [
    {
     "name": "stderr",
     "output_type": "stream",
     "text": [
      "C:\\Users\\kdp\\AppData\\Local\\Temp\\ipykernel_13404\\3738686286.py:1: SettingWithCopyWarning: \n",
      "A value is trying to be set on a copy of a slice from a DataFrame.\n",
      "Try using .loc[row_indexer,col_indexer] = value instead\n",
      "\n",
      "See the caveats in the documentation: https://pandas.pydata.org/pandas-docs/stable/user_guide/indexing.html#returning-a-view-versus-a-copy\n",
      "  subwaydf2['총하차']=subwaydf2['19시하차']+subwaydf2['20시하차']\n"
     ]
    }
   ],
   "source": [
    "subwaydf2['총하차']=subwaydf2['19시하차']+subwaydf2['20시하차']"
   ]
  },
  {
   "cell_type": "code",
   "execution_count": 16,
   "id": "b8e6636d",
   "metadata": {},
   "outputs": [],
   "source": [
    "statname=subwaydf2['지하철역'].unique()\n"
   ]
  },
  {
   "cell_type": "code",
   "execution_count": 17,
   "id": "c0d3a9d2",
   "metadata": {},
   "outputs": [],
   "source": [
    "subwatfinal=pd.DataFrame(columns=['지하철역','총하차'])\n",
    "for i in statname:\n",
    "    subwatfinal.loc[len(subwatfinal['총하차'])]=[i,subwaydf2[subwaydf2['지하철역']==i]['총하차'].sum()]\n",
    "   "
   ]
  },
  {
   "cell_type": "code",
   "execution_count": 18,
   "id": "80c1a28a",
   "metadata": {},
   "outputs": [],
   "source": [
    "subwatfinal=subwatfinal.sort_values('총하차',ascending=False) #sort_value를 쓸떄는 리버스가 아니라, ascending을 쓰고, 총하차 열을 기준으로 정렬할 수 있다."
   ]
  },
  {
   "cell_type": "code",
   "execution_count": 19,
   "id": "e3a76cbf",
   "metadata": {},
   "outputs": [
    {
     "data": {
      "text/html": [
       "<div>\n",
       "<style scoped>\n",
       "    .dataframe tbody tr th:only-of-type {\n",
       "        vertical-align: middle;\n",
       "    }\n",
       "\n",
       "    .dataframe tbody tr th {\n",
       "        vertical-align: top;\n",
       "    }\n",
       "\n",
       "    .dataframe thead th {\n",
       "        text-align: right;\n",
       "    }\n",
       "</style>\n",
       "<table border=\"1\" class=\"dataframe\">\n",
       "  <thead>\n",
       "    <tr style=\"text-align: right;\">\n",
       "      <th></th>\n",
       "      <th>지하철역</th>\n",
       "      <th>총하차</th>\n",
       "    </tr>\n",
       "  </thead>\n",
       "  <tbody>\n",
       "    <tr>\n",
       "      <th>47</th>\n",
       "      <td>홍대입구</td>\n",
       "      <td>342962</td>\n",
       "    </tr>\n",
       "    <tr>\n",
       "      <th>24</th>\n",
       "      <td>잠실(송파구청)</td>\n",
       "      <td>318474</td>\n",
       "    </tr>\n",
       "    <tr>\n",
       "      <th>38</th>\n",
       "      <td>신림</td>\n",
       "      <td>311267</td>\n",
       "    </tr>\n",
       "    <tr>\n",
       "      <th>34</th>\n",
       "      <td>사당</td>\n",
       "      <td>291686</td>\n",
       "    </tr>\n",
       "    <tr>\n",
       "      <th>0</th>\n",
       "      <td>서울역</td>\n",
       "      <td>242371</td>\n",
       "    </tr>\n",
       "    <tr>\n",
       "      <th>...</th>\n",
       "      <td>...</td>\n",
       "      <td>...</td>\n",
       "    </tr>\n",
       "    <tr>\n",
       "      <th>462</th>\n",
       "      <td>신중동</td>\n",
       "      <td>0</td>\n",
       "    </tr>\n",
       "    <tr>\n",
       "      <th>305</th>\n",
       "      <td>임진강</td>\n",
       "      <td>0</td>\n",
       "    </tr>\n",
       "    <tr>\n",
       "      <th>306</th>\n",
       "      <td>운천</td>\n",
       "      <td>0</td>\n",
       "    </tr>\n",
       "    <tr>\n",
       "      <th>461</th>\n",
       "      <td>춘의</td>\n",
       "      <td>0</td>\n",
       "    </tr>\n",
       "    <tr>\n",
       "      <th>463</th>\n",
       "      <td>굴포천</td>\n",
       "      <td>0</td>\n",
       "    </tr>\n",
       "  </tbody>\n",
       "</table>\n",
       "<p>529 rows × 2 columns</p>\n",
       "</div>"
      ],
      "text/plain": [
       "         지하철역     총하차\n",
       "47       홍대입구  342962\n",
       "24   잠실(송파구청)  318474\n",
       "38         신림  311267\n",
       "34         사당  291686\n",
       "0         서울역  242371\n",
       "..        ...     ...\n",
       "462       신중동       0\n",
       "305       임진강       0\n",
       "306        운천       0\n",
       "461        춘의       0\n",
       "463       굴포천       0\n",
       "\n",
       "[529 rows x 2 columns]"
      ]
     },
     "execution_count": 19,
     "metadata": {},
     "output_type": "execute_result"
    }
   ],
   "source": [
    "subwatfinal"
   ]
  },
  {
   "cell_type": "code",
   "execution_count": 25,
   "id": "ca36fb9d",
   "metadata": {},
   "outputs": [
    {
     "name": "stdout",
     "output_type": "stream",
     "text": [
      "홍대입구:342962\n",
      "잠실(송파구청):318474\n",
      "신림:311267\n",
      "사당:291686\n",
      "서울역:242371\n"
     ]
    },
    {
     "data": {
      "image/png": "[encoded data removed]",
      "text/plain": [
       "<Figure size 500x500 with 1 Axes>"
      ]
     },
     "metadata": {},
     "output_type": "display_data"
    }
   ],
   "source": [
    "plist=[]\n",
    "vlist=[]\n",
    "for j in range(5):\n",
    "    row = subwatfinal.iloc[j]\n",
    "    place = row['지하철역']\n",
    "    vvv=row['총하차']\n",
    "    plist.append(place)\n",
    "    vlist.append(vvv)\n",
    "    print(f'{place}:{vvv}')\n",
    "\n",
    "if (platform.system()=='Windows'):\n",
    "    plt.rc('font',family='Malgun Gothic')\n",
    "else:\n",
    "    plt.rc('font',family='AppleGothic')\n",
    "\n",
    "plt.figure(figsize=(5,5))\n",
    "plt.title('서울 지하철 퇴근 시간대 하차 인원 비교')\n",
    "plt.bar(plist,vlist)\n",
    "plt.xticks(rotation=80)\n",
    "plt.tight_layout()\n",
    "plt.show()"
   ]
  },
  {
   "cell_type": "code",
   "execution_count": null,
   "id": "7d415cf5",
   "metadata": {},
   "outputs": [],
   "source": []
  }
 ],
 "metadata": {
  "kernelspec": {
   "display_name": "Python 3 (ipykernel)",
   "language": "python",
   "name": "python3"
  },
  "language_info": {
   "codemirror_mode": {
    "name": "ipython",
    "version": 3
   },
   "file_extension": ".py",
   "mimetype": "text/x-python",
   "name": "python",
   "nbconvert_exporter": "python",
   "pygments_lexer": "ipython3",
   "version": "3.11.5"
  }
 },
 "nbformat": 4,
 "nbformat_minor": 5
}
